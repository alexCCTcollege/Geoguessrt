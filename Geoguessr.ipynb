{
 "cells": [
  {
   "cell_type": "code",
   "execution_count": 14,
   "metadata": {},
   "outputs": [],
   "source": [
    "from selenium import webdriver\n",
    "from selenium.webdriver.chrome.service import Service\n",
    "from webdriver_manager.chrome import ChromeDriverManager\n",
    "from selenium.webdriver.common.by import By\n",
    "from selenium.webdriver.support.ui import WebDriverWait\n",
    "from selenium.webdriver.support import expected_conditions as EC\n",
    "from seleniumbase import Driver\n",
    "import random\n",
    "import string\n",
    "import pyautogui\n",
    "import time"
   ]
  },
  {
   "cell_type": "code",
   "execution_count": 15,
   "metadata": {},
   "outputs": [
    {
     "name": "stdout",
     "output_type": "stream",
     "text": [
      "\n",
      "Warning: chromedriver update needed. Getting it now:\n",
      "\n",
      "*** chromedriver to download = 123.0.6312.122 (Previous Version)\n",
      "\n",
      "Downloading chromedriver-win64.zip from:\n",
      "https://edgedl.me.gvt1.com/edgedl/chrome/chrome-for-testing/123.0.6312.122/win64/chromedriver-win64.zip ...\n",
      "Download Complete!\n",
      "\n"
     ]
    },
    {
     "data": {
      "text/plain": [
       "'\\nstep 1: create a party on MY personal geoguessr account\\n\\nstep 2: copy INVITE CODE\\n\\nstep 3: run this cell and join with code, select name whatever\\n\\nstep 4: on your personal, SET setting Round time = 10 seconds, START GAME\\n\\nstep 5: run below cell\\n            \\n'"
      ]
     },
     "execution_count": 15,
     "metadata": {},
     "output_type": "execute_result"
    }
   ],
   "source": [
    "driver = Driver(browser=\"chrome\", headless=False)\n",
    "\n",
    "# Open GeoGuessr\n",
    "driver.get(\"https://www.geoguessr.com/\")\n",
    "\n",
    "\"\"\"\n",
    "step 1: create a party on MY personal geoguessr account\n",
    "\n",
    "step 2: copy INVITE CODE\n",
    "\n",
    "step 3: run this cell and join with code, select name whatever\n",
    "\n",
    "step 4: on your personal, SET setting Round time = 10 seconds, START GAME\n",
    "\n",
    "step 5: run below cell\n",
    "            \n",
    "\"\"\""
   ]
  },
  {
   "cell_type": "code",
   "execution_count": 10,
   "metadata": {},
   "outputs": [],
   "source": [
    "def Locate():\n",
    "    time.sleep(5)\n",
    "    return pyautogui.position()"
   ]
  },
  {
   "cell_type": "code",
   "execution_count": 25,
   "metadata": {},
   "outputs": [
    {
     "data": {
      "text/plain": [
       "Point(x=2821, y=802)"
      ]
     },
     "execution_count": 25,
     "metadata": {},
     "output_type": "execute_result"
    }
   ],
   "source": [
    "Locate()"
   ]
  },
  {
   "cell_type": "markdown",
   "metadata": {},
   "source": [
    "ACCEPT COOKIES\n",
    "JOIN WITH CODE\n",
    "CREATE NAME\n",
    "PARTY CODE:       D3C2"
   ]
  },
  {
   "cell_type": "code",
   "execution_count": 28,
   "metadata": {},
   "outputs": [
    {
     "ename": "KeyboardInterrupt",
     "evalue": "",
     "output_type": "error",
     "traceback": [
      "\u001b[1;31m---------------------------------------------------------------------------\u001b[0m",
      "\u001b[1;31mKeyboardInterrupt\u001b[0m                         Traceback (most recent call last)",
      "Cell \u001b[1;32mIn[28], line 24\u001b[0m\n\u001b[0;32m     21\u001b[0m pyautogui\u001b[38;5;241m.\u001b[39mclick(start_game_x, start_game_y, duration\u001b[38;5;241m=\u001b[39m\u001b[38;5;241m1\u001b[39m)\n\u001b[0;32m     23\u001b[0m \u001b[38;5;28;01mfor\u001b[39;00m i \u001b[38;5;129;01min\u001b[39;00m \u001b[38;5;28mrange\u001b[39m(\u001b[38;5;241m5\u001b[39m):\n\u001b[1;32m---> 24\u001b[0m     \u001b[43mtime\u001b[49m\u001b[38;5;241;43m.\u001b[39;49m\u001b[43msleep\u001b[49m\u001b[43m(\u001b[49m\u001b[38;5;241;43m12\u001b[39;49m\u001b[43m)\u001b[49m\n\u001b[0;32m     25\u001b[0m     driver\u001b[38;5;241m.\u001b[39msave_screenshot(\u001b[38;5;124mf\u001b[39m\u001b[38;5;124m'\u001b[39m\u001b[38;5;132;01m{\u001b[39;00mName_gen()\u001b[38;5;132;01m}\u001b[39;00m\u001b[38;5;124m.png\u001b[39m\u001b[38;5;124m'\u001b[39m)\n\u001b[0;32m     26\u001b[0m     time\u001b[38;5;241m.\u001b[39msleep(\u001b[38;5;241m10\u001b[39m)\n",
      "\u001b[1;31mKeyboardInterrupt\u001b[0m: "
     ]
    }
   ],
   "source": [
    "char = string.ascii_letters + string.digits\n",
    "random.choice(char)\n",
    "\n",
    "#function for creating image names randomnly\n",
    "def Name_gen():\n",
    "    name = ''\n",
    "    for x in range(10):\n",
    "        name = name + random.choice(char)\n",
    "    name\n",
    "    return name\n",
    "\n",
    "start_game_x, start_game_y = 956, 983\n",
    "next_round_x, next_round_y = 971, 855\n",
    "continue_x, continue_y = 1032, 976\n",
    "finish_x,finish_y = 2711, 833\n",
    "continue_screen_2x, continue_screen_2y = 2821,802\n",
    "\n",
    "\n",
    "for x in range(200):\n",
    "    time.sleep(5) #give time to have geoguessr on screen\n",
    "    pyautogui.click(start_game_x, start_game_y, duration=1)\n",
    "    \n",
    "    for i in range(5):\n",
    "        time.sleep(12)\n",
    "        driver.save_screenshot(f'{Name_gen()}.png')\n",
    "        time.sleep(10)\n",
    "        pyautogui.click(next_round_x, next_round_y, duration=1)     \n",
    "       \n",
    "    pyautogui.click(continue_x, continue_y, duration=1) #click continue on tab 1\n",
    "    time.sleep(1)\n",
    "    pyautogui.click(finish_x,finish_y, duration=1) #click on finish on tab 2\n",
    "    time.sleep(1)\n",
    "    pyautogui.click(continue_x, continue_y, duration=1) #click continue on tab 2\n",
    "    time.sleep(1)\n",
    "    pyautogui.click(continue_screen_2x, continue_screen_2y, duration=1) #click on tab 2 to close\n"
   ]
  },
  {
   "cell_type": "code",
   "execution_count": null,
   "metadata": {},
   "outputs": [],
   "source": [
    "Domani provare 2 screen"
   ]
  }
 ],
 "metadata": {
  "kernelspec": {
   "display_name": "base",
   "language": "python",
   "name": "base"
  },
  "language_info": {
   "codemirror_mode": {
    "name": "ipython",
    "version": 3
   },
   "file_extension": ".py",
   "mimetype": "text/x-python",
   "name": "python",
   "nbconvert_exporter": "python",
   "pygments_lexer": "ipython3",
   "version": "3.9.7"
  }
 },
 "nbformat": 4,
 "nbformat_minor": 2
}
